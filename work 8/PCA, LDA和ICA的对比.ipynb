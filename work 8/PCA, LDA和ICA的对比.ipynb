{
 "cells": [
  {
   "cell_type": "markdown",
   "metadata": {
    "collapsed": true,
    "pycharm": {
     "name": "#%% md\n"
    }
   },
   "source": [
    "# 机器学习 -- PCA, LDA和ICA\n",
    "PCA, LDA 和ICA算法，常用于数据的降维分析，用于数据输入到其他模型前一些预处理，三者有相似之处，也各有不同。\n",
    "\n",
    "## 1 统计学基础\n",
    "给定一个m维随机变量$X=(x_1, x_2, ..., x_m)^T$，有n个观测样本 $X = [X_1 \\ X_2 \\  ...\\ X_n ]$,观测样本$X_j = (x_{1j},x_{2j},...,x_{nj})^T$, 则观测数据矩阵可用以下矩阵表示：\n",
    "\n",
    "$\n",
    "X =  [X_1 \\ X_2 \\  ...\\ X_n ]=\n",
    "\\left [\n",
    "\\begin{matrix}\n",
    "x_{11}&x_{12}&...&x_{1n}\\\\\n",
    "x_{21}&x_{22}&...&x_{2n}\\\\\n",
    ".&.& &.\\\\\n",
    ".&.& &.\\\\\n",
    ".&.& &.\\\\\n",
    "x_{m1}&x_{m2}&...&x_{mn}\\\\\n",
    "\\end{matrix}\n",
    "\\right]\n",
    "$\n",
    "有以下定义：\n",
    "* 散度矩阵：$$S =\\sum_{j=1}^n(X_j-\\bar{X})(X_j-\\bar{X})^T$$\n",
    "* 类间散度矩阵与类内散度矩阵：\n",
    "\n",
    "假设随机变量$X$共有M个类，记为$X = \\{\\Omega_1,\\Omega_2,...,\\Omega_M\\}$，共有n个样本记为$X = [X_1, X_2,..., X_n]$,其中每类的样本数为$n_1,n_2,...,n_M$，\n",
    "\n",
    "$\\Omega_i$类内的散度矩阵定义为：\n",
    "$$S_{w}^{(i)} = \\frac{\\sum_{k=1}^{n_i}(X_k^{(i)}-\\bar{X}^{(i)})(X_k^{(i)}-\\bar{X}^{(i)})^T}{n_i}$$\n",
    "\n",
    "总的类内散度矩阵为：\n",
    "$$S_w = \\sum_{i=1}^{M}P(\\Omega_i)S_w^{(i)}$$\n",
    "\n",
    "$\\Omega_i$和$\\Omega_j$之间的散度矩阵（类内散度矩阵）定义为：\n",
    "$$S_B^{ij}=(\\bar{X}^{(i)}-\\bar{X}^{(j)})(\\bar{X}^{(i)}-\\bar{X}^{(j)})^T$$\n",
    "\n",
    "总的类间散度矩阵定义为：\n",
    "$$S_B = \\frac{1}{2}\\sum_{i=1}^MP(\\Omega_i)\\sum_{j=1}^{M}P(\\Omega_j)S_B^{ij}$$\n",
    "\n",
    "总体散度矩阵为：\n",
    "$$S_T = S_B+S_w = \\frac{1}{N}\\sum_{i=1}^M(X_i-\\bar{X})(X_i-\\bar{X})^T$$\n",
    "\n",
    "以上定义中，\n",
    "\n",
    "第$i$类样本的概率为：$$P(\\Omega_i) = \\frac{n_i}{n}$$\n",
    "\n",
    "第$i$类样本的均值为：$$\\bar{X}^{(i)}=\\frac{\\sum_{j=1}^{n_i}X_{j}^{(i)}}{n_i}$$\n",
    "\n",
    "总体样本均值为：$$\\bar{X} =\\sum_{i=1}^{M}P(\\Omega_i)\\bar{X}^{(i)}$$\n",
    "## 2 PCA, LDA和ICA算法\n"
   ]
  },
  {
   "cell_type": "markdown",
   "source": [
    "\n"
   ],
   "metadata": {
    "collapsed": false
   }
  }
 ],
 "metadata": {
  "kernelspec": {
   "display_name": "Python 3",
   "language": "python",
   "name": "python3"
  },
  "language_info": {
   "codemirror_mode": {
    "name": "ipython",
    "version": 2
   },
   "file_extension": ".py",
   "mimetype": "text/x-python",
   "name": "python",
   "nbconvert_exporter": "python",
   "pygments_lexer": "ipython2",
   "version": "2.7.6"
  },
  "pycharm": {
   "stem_cell": {
    "cell_type": "raw",
    "source": [],
    "metadata": {
     "collapsed": false
    }
   }
  }
 },
 "nbformat": 4,
 "nbformat_minor": 0
}