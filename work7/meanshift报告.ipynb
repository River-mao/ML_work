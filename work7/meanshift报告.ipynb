{
 "cells": [
  {
   "cell_type": "markdown",
   "metadata": {
    "collapsed": true,
    "pycharm": {
     "name": "#%% md\n"
    }
   },
   "source": [
    "# 作业7\n",
    "## 1 GMM算法与k均值聚类的异同\n",
    "### 1.1 相同点\n",
    "* 它们都是可以用于聚类的算法\n",
    "* 都需要指定K值，即类别数\n",
    "* 都使用EM算法来求解\n",
    "* 往往都只能收敛到局部最优\n",
    "\n",
    "### 1.2 不同点\n",
    "高斯混合模型可以给出一个样本属于某类的概率是多少；且高斯混合模型为生成模型，可以用于生成新的样本点\n",
    "\n",
    "## 2 meanshift算法阅读报告\n",
    "Meanshift算法建立在核密度估计的基础之上，它假设数据点集符合某一个概率分布，是沿着密度上升方向寻找同属于一簇数据点的迭代算法。核密度估计，是从数据点估计概率分布的非参数估计算法。\n",
    "\n",
    "### 2.1 核密度估计\n",
    "Kernel density estimation,KDE\n",
    "\n",
    "核密度估计的工作原理是在数据点集的每个点，放置一个核，即Kernel,\n",
    "\n",
    "### 2.2 基本的Mean Shift算法\n",
    "给定d维空间$R^d$的n个样本点, 在空间中任选一个点x, 定义mean shift（漂移向量）向量的基本形式为：\n",
    "\n",
    "$$M_h = 1/K \\sum_{x_i\\in S_k}(x_i-x)$$\n",
    "\n",
    "$S_k$是一个半径为h的超球域， 满足以下关系：\n",
    "\n",
    "$$S_k(x) = \\{y:(y-x_i)^T(y-x_i)<h^2\\}$$\n",
    "\n",
    "$S_k$的k表示在n个样本点中$x_i$中，有k个点落入$S_k$区域中。\n",
    "\n",
    "通俗理解便是：在$R^n$维空间中， 任意选择一个点，以这个点为圆心， h为半径做一个超球体， 落在这个球内部的所有点都会和圆心产生一个向量，向量以圆心为起点，以超球体内的任意一点为终点。\n",
    "\n",
    "将所有的向量相加（矢量加），就得到$M_h$, 即漂移向量。再以当前漂移向量的终点为圆心， 重复上述过程，做一个超球体，再得到一个漂移向量。如此重复，mean shift会收敛到概率密度最大的地方。\n",
    "\n",
    "### 2.3 引入核函数的Mean Shift算法\n",
    "\n",
    "引入核函数的mean shift算法变形为：\n",
    "\n",
    "$$\\hat f_{h,K}(x) = \\frac{c_{k,d}}{nh^d} \\sum_{i=1}^{n}K(||\\frac{x-x_i}{h}||^2)$$\n",
    "\n",
    "上式中，K为核函数，h为半径，$\\frac{c_{k,d}}{nh^d}$为单位密度，想要让上式达到最大，对上式求导。\n",
    "\n",
    "$$f^{'} = \\frac{2c_{k,d}}{nh^d} \\sum_{i=1}^{n}(x-x_i)K^{'}(||\\frac{x-x_i}{h}||^{2})$$\n",
    "\n",
    "令：$g(x) = -k^{'}(x)$，K(x)叫做g(x)的影子核，即求到的负方向，将求导后的式子进行替换：\n",
    "\n",
    "$$f^{'} = \\frac{2c_{k,d}}{nh^{d+2}} \\sum_{i=1}^{n}(x-x_i)K^{'}(||\\frac{x-x_i}{h}||^{2}) = \\frac{2c_{k,d}}{nh^d} [\\sum_{i=1}^{n}g(||\\frac{x-x_i}{h}||^2)][\\frac{\\sum_{i=1}^nx_ig(||\\frac{x-x_i}{h}||^2)}{\\sum_{i=1}^ng(||\\frac{x-x_i}{h}||^2)}-x]$$\n",
    "\n",
    "对上式，采用高斯核：\n",
    "\n",
    "$$\\frac{2c_{k,d}}{nh^{d+2}} [\\sum_{i=1}^{n}g(||\\frac{x-x_i}{h}||^2)][\\frac{\\sum_{i=1}^nx_ig(||\\frac{x-x_i}{h}||^2)}{\\sum_{i=1}^ng(||\\frac{x-x_i}{h}||^2)}-x] = $$\n",
    "$$ \\frac{c_{g,d}}{nh^d}.\\frac{2c_{k,d}}{c_{g,d}h^2}[\\sum_{i=1}^{n}g(||\\frac{x-x_i}{h}||^2)][\\frac{\\sum_{i=1}^nx_ig(||\\frac{x-x_i}{h}||^2)}{\\sum_{i=1}^ng(||\\frac{x-x_i}{h}||^2)}-x]$$\n",
    "\n",
    "其中：\n",
    "$$\\hat f_{h,G}(x) =  \\frac{c_{g,d}}{nh^d}  [\\sum_{i=1}^{n}g(||\\frac{x-x_i}{h}||^2)]$$\n",
    "$$m_{h,G}(x)= \\frac{\\sum_{i=1}^nx_ig(||\\frac{x-x_i}{h}||^2)}{\\sum_{i=1}^ng(||\\frac{x-x_i}{h}||^2)}-x$$\n",
    "\n",
    "$m_{h,G}(x)相当于meanshift向量的式子$\n",
    "\n",
    "### 2.4 算法步骤\n",
    "\n",
    "给定：$R^d$空间中有n个样本点。\n",
    "\n",
    "1 在未被标记的数据点中随机选择一个作为中心点x\n",
    "\n",
    "2 以中心点为圆心，以h为半径，做一个超球体，将被超球体包含在内的点记做集合M，以圆心为起点，M内的点为终点，做向量，并求和，得到shift 向量。\n",
    "\n",
    "3 以当前shift向量的终点为新的圆心，即x=x+shift, 圆心方向向shift的方向移动，移动距离为d = ||shift||。\n",
    "\n",
    "4 重复2,3步骤，直到d<$\\epsilon(人为设定)$，退出迭代。\n",
    "\n",
    "5 将迭代过程中超球体内的点都归到一簇。\n",
    "\n",
    "6 若当前簇圆心被包含在另一已存在的簇内，合并两簇。"
   ]
  }
 ],
 "metadata": {
  "kernelspec": {
   "display_name": "Python 3",
   "language": "python",
   "name": "python3"
  },
  "language_info": {
   "codemirror_mode": {
    "name": "ipython",
    "version": 2
   },
   "file_extension": ".py",
   "mimetype": "text/x-python",
   "name": "python",
   "nbconvert_exporter": "python",
   "pygments_lexer": "ipython2",
   "version": "2.7.6"
  },
  "pycharm": {
   "stem_cell": {
    "cell_type": "raw",
    "source": [],
    "metadata": {
     "collapsed": false
    }
   }
  }
 },
 "nbformat": 4,
 "nbformat_minor": 0
}