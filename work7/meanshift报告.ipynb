{
 "cells": [
  {
   "cell_type": "markdown",
   "metadata": {
    "collapsed": true,
    "pycharm": {
     "name": "#%% md\n"
    }
   },
   "source": [
    "# 作业7\n",
    "## 1 GMM算法与k均值聚类的异同\n",
    "### 1.1 相同点\n",
    "* 它们都是可以用于聚类的算法\n",
    "* 都需要指定K值，即类别数\n",
    "* 都使用EM算法来求解\n",
    "* 往往都只能收敛到局部最优\n",
    "\n",
    "### 1.2 不同点\n",
    "高斯混合模型可以给出一个样本属于某类的概率是多少；且高斯混合模型为生成模型，可以用于生成新的样本点\n",
    "\n",
    "## 2 meanshift算法阅读报告\n",
    "Meanshift算法建立在核密度估计的基础之上，它假设数据点集是从一个概率分布中采样获得的，核密度估计，是从数据点估计概率分布的非参数估计算法。\n",
    "\n",
    "### 2.1 核密度估计\n",
    "Kernel density estimation,KDE\n",
    "\n",
    "核密度估计的工作原理是在数据点集的每个点，放置一个核，即Kernel,\n",
    "\n"
   ]
  }
 ],
 "metadata": {
  "kernelspec": {
   "display_name": "Python 3",
   "language": "python",
   "name": "python3"
  },
  "language_info": {
   "codemirror_mode": {
    "name": "ipython",
    "version": 2
   },
   "file_extension": ".py",
   "mimetype": "text/x-python",
   "name": "python",
   "nbconvert_exporter": "python",
   "pygments_lexer": "ipython2",
   "version": "2.7.6"
  },
  "pycharm": {
   "stem_cell": {
    "cell_type": "raw",
    "source": [],
    "metadata": {
     "collapsed": false
    }
   }
  }
 },
 "nbformat": 4,
 "nbformat_minor": 0
}